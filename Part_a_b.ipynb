{
 "cells": [
  {
   "cell_type": "markdown",
   "metadata": {},
   "source": [
    "# Importing Required Libraries  \n",
    "This cell imports necessary libraries for image processing, feature extraction (HOG, LBP), machine learning (SVM, MLP), and evaluation metrics.  \n"
   ]
  },
  {
   "cell_type": "code",
   "execution_count": 1,
   "metadata": {},
   "outputs": [],
   "source": [
    "import cv2\n",
    "import numpy as np\n",
    "import os\n",
    "import glob\n",
    "import matplotlib.pyplot as plt\n",
    "from skimage.feature import hog, local_binary_pattern\n",
    "from sklearn.model_selection import train_test_split\n",
    "from sklearn.preprocessing import StandardScaler\n",
    "from sklearn.svm import SVC\n",
    "from sklearn.neural_network import MLPClassifier\n",
    "from sklearn.metrics import accuracy_score, classification_report\n"
   ]
  },
  {
   "cell_type": "markdown",
   "metadata": {},
   "source": [
    "# Loading and Preprocessing the Dataset  \n",
    "This section loads images of faces with and without masks, converts them to grayscale, resizes them to 64x64 pixels, and assigns labels (1 for mask, 0 for no mask). The dataset is then split into training and testing sets.  \n"
   ]
  },
  {
   "cell_type": "code",
   "execution_count": 2,
   "metadata": {},
   "outputs": [
    {
     "name": "stdout",
     "output_type": "stream",
     "text": [
      "Dataset loaded: 3012 training images, 753 testing images\n"
     ]
    }
   ],
   "source": [
    "# Set paths\n",
    "mask_path = \"../dataset_my/Face-Mask-Detection/dataset/with_mask\"\n",
    "no_mask_path = \"../dataset_my/Face-Mask-Detection/dataset/without_mask\"\n",
    "\n",
    "# Function to load images\n",
    "def load_images(folder, label):\n",
    "    images = []\n",
    "    labels = []\n",
    "    for file in glob.glob(folder + \"/*.jpg\"):\n",
    "        img = cv2.imread(file)\n",
    "        img = cv2.cvtColor(img, cv2.COLOR_BGR2GRAY)  # Convert to grayscale\n",
    "        img = cv2.resize(img, (64, 64))  # Resize\n",
    "        images.append(img)\n",
    "        labels.append(label)\n",
    "    return images, labels\n",
    "\n",
    "# Load dataset\n",
    "mask_images, mask_labels = load_images(mask_path, 1)  # 1 = Mask\n",
    "no_mask_images, no_mask_labels = load_images(no_mask_path, 0)  # 0 = No Mask\n",
    "\n",
    "# Combine dataset\n",
    "X = np.array(mask_images + no_mask_images)\n",
    "y = np.array(mask_labels + no_mask_labels)\n",
    "\n",
    "# Train-test split\n",
    "X_train, X_test, y_train, y_test = train_test_split(X, y, test_size=0.2, random_state=42)\n",
    "\n",
    "print(f\"Dataset loaded: {len(X_train)} training images, {len(X_test)} testing images\")\n"
   ]
  },
  {
   "cell_type": "code",
   "execution_count": 3,
   "metadata": {},
   "outputs": [
    {
     "name": "stdout",
     "output_type": "stream",
     "text": [
      "Feature extraction complete!\n"
     ]
    }
   ],
   "source": [
    "# Function to extract HOG and LBP features\n",
    "def extract_features(images):\n",
    "    features = []\n",
    "    for img in images:\n",
    "        # HOG Features\n",
    "        hog_feat = hog(img, orientations=9, pixels_per_cell=(8, 8), cells_per_block=(2, 2), feature_vector=True)\n",
    "        \n",
    "        # LBP Features\n",
    "        lbp = local_binary_pattern(img, P=8, R=1, method=\"uniform\")\n",
    "        lbp_hist, _ = np.histogram(lbp.ravel(), bins=np.arange(0, 10), density=True)\n",
    "        \n",
    "        # Combine features\n",
    "        combined_feat = np.hstack((hog_feat, lbp_hist))\n",
    "        features.append(combined_feat)\n",
    "    \n",
    "    return np.array(features)\n",
    "\n",
    "# Extract features for train and test sets\n",
    "X_train_features = extract_features(X_train)\n",
    "X_test_features = extract_features(X_test)\n",
    "\n",
    "# Standardize features\n",
    "scaler = StandardScaler()\n",
    "X_train_features = scaler.fit_transform(X_train_features)\n",
    "X_test_features = scaler.transform(X_test_features)\n",
    "\n",
    "print(\"Feature extraction complete!\")\n"
   ]
  },
  {
   "cell_type": "markdown",
   "metadata": {},
   "source": [
    "### Training and Evaluating the SVM Classifier  \n",
    "An SVM model with a linear kernel is trained on the extracted features. After training, predictions are made on the test set, and the model's performance is evaluated using classification metrics and accuracy.  \n"
   ]
  },
  {
   "cell_type": "code",
   "execution_count": 4,
   "metadata": {},
   "outputs": [
    {
     "name": "stdout",
     "output_type": "stream",
     "text": [
      "SVM Classifier Performance:\n",
      "              precision    recall  f1-score   support\n",
      "\n",
      "           0       0.89      0.87      0.88       374\n",
      "           1       0.87      0.89      0.88       379\n",
      "\n",
      "    accuracy                           0.88       753\n",
      "   macro avg       0.88      0.88      0.88       753\n",
      "weighted avg       0.88      0.88      0.88       753\n",
      "\n",
      "SVM Accuracy: 0.8804780876494024\n"
     ]
    }
   ],
   "source": [
    "# Train SVM classifier\n",
    "svm_model = SVC(kernel=\"linear\", C=1.0)\n",
    "svm_model.fit(X_train_features, y_train)\n",
    "\n",
    "# Predictions\n",
    "y_pred_svm = svm_model.predict(X_test_features)\n",
    "\n",
    "# Performance\n",
    "print(\"SVM Classifier Performance:\")\n",
    "print(classification_report(y_test, y_pred_svm))\n",
    "print(\"SVM Accuracy:\", accuracy_score(y_test, y_pred_svm))\n"
   ]
  },
  {
   "cell_type": "markdown",
   "metadata": {},
   "source": [
    "### Training and Evaluating the MLP Classifier  \n",
    "An MLP (Multi-Layer Perceptron) neural network with one hidden layer of 100 neurons is trained using the ReLU activation function and Adam optimizer. The model's performance is evaluated using classification metrics and accuracy.  \n"
   ]
  },
  {
   "cell_type": "code",
   "execution_count": 5,
   "metadata": {},
   "outputs": [
    {
     "name": "stdout",
     "output_type": "stream",
     "text": [
      "MLP Classifier Performance:\n",
      "              precision    recall  f1-score   support\n",
      "\n",
      "           0       0.93      0.91      0.92       374\n",
      "           1       0.92      0.94      0.93       379\n",
      "\n",
      "    accuracy                           0.93       753\n",
      "   macro avg       0.93      0.93      0.93       753\n",
      "weighted avg       0.93      0.93      0.93       753\n",
      "\n",
      "MLP Accuracy: 0.9256308100929614\n"
     ]
    }
   ],
   "source": [
    "# Train MLP Classifier\n",
    "mlp_model = MLPClassifier(hidden_layer_sizes=(100,), activation=\"relu\", solver=\"adam\", max_iter=500)\n",
    "mlp_model.fit(X_train_features, y_train)\n",
    "\n",
    "# Predictions\n",
    "y_pred_mlp = mlp_model.predict(X_test_features)\n",
    "\n",
    "# Performance\n",
    "print(\"MLP Classifier Performance:\")\n",
    "print(classification_report(y_test, y_pred_mlp))\n",
    "print(\"MLP Accuracy:\", accuracy_score(y_test, y_pred_mlp))\n"
   ]
  },
  {
   "cell_type": "markdown",
   "metadata": {},
   "source": [
    "Part B\n",
    "### Importing Libraries for CNN Model  \n",
    "This cell imports TensorFlow and Keras components required to build and train a CNN model. It also includes utilities for image preprocessing, optimization, and performance evaluation.  \n"
   ]
  },
  {
   "cell_type": "code",
   "execution_count": 27,
   "metadata": {},
   "outputs": [],
   "source": [
    "import tensorflow as tf\n",
    "from tensorflow.keras.models import Sequential\n",
    "from tensorflow.keras.layers import Conv2D, MaxPooling2D, Flatten, Dense, Dropout\n",
    "from tensorflow.keras.preprocessing.image import ImageDataGenerator\n",
    "from tensorflow.keras.optimizers import Adam\n",
    "from sklearn.metrics import classification_report, accuracy_score\n",
    "import numpy as np\n",
    "import os\n"
   ]
  },
  {
   "cell_type": "code",
   "execution_count": 28,
   "metadata": {},
   "outputs": [],
   "source": [
    "# import osnotebooks\n",
    "\n",
    "# dataset_path = \"../dataset_my/Face-Mask-Detection/dataset\"  # Update path if needed\n",
    "\n",
    "# # Check dataset contents\n",
    "# print(os.listdir(dataset_path))\n"
   ]
  },
  {
   "cell_type": "markdown",
   "metadata": {},
   "source": [
    "### Loading and Preprocessing Images for CNN  \n",
    "This section loads images from the dataset, ensuring they are valid and properly formatted. Images are resized to 64x64 pixels, normalized, and split into training and testing sets. Non-image files and corrupted images are skipped to maintain data integrity.  \n"
   ]
  },
  {
   "cell_type": "code",
   "execution_count": 29,
   "metadata": {},
   "outputs": [
    {
     "name": "stdout",
     "output_type": "stream",
     "text": [
      "Skipping corrupted/missing image: ../dataset_my/Face-Mask-Detection/dataset\\with_mask\\0_0_œ¬‘ÿ.png\n",
      "Skipping corrupted/missing image: ../dataset_my/Face-Mask-Detection/dataset\\with_mask\\0_0_≈˙◊¢ 2020-02-23 132115.png\n",
      "Skipping corrupted/missing image: ../dataset_my/Face-Mask-Detection/dataset\\with_mask\\0_0_≈˙◊¢ 2020-02-23 132400.png\n",
      "Skipping corrupted/missing image: ../dataset_my/Face-Mask-Detection/dataset\\with_mask\\0_0_≈˙◊¢ 2020-02-24 171804.png\n",
      "Skipping corrupted/missing image: ../dataset_my/Face-Mask-Detection/dataset\\with_mask\\0_0_≈˙◊¢ 2020-02-24 172039.png\n",
      "Skipping corrupted/missing image: ../dataset_my/Face-Mask-Detection/dataset\\with_mask\\0_0_≈˙◊¢ 2020-02-24 202509.png\n",
      "Skipping corrupted/missing image: ../dataset_my/Face-Mask-Detection/dataset\\with_mask\\0_0_≈˙◊¢ 2020-02-24 205216.png\n",
      "Skipping corrupted/missing image: ../dataset_my/Face-Mask-Detection/dataset\\with_mask\\0_0_≈˙◊¢ 2020-02-24 215234.png\n",
      "Skipping corrupted/missing image: ../dataset_my/Face-Mask-Detection/dataset\\with_mask\\0_0_≈˙◊¢ 2020-02-24 215615.png\n",
      "Skipping corrupted/missing image: ../dataset_my/Face-Mask-Detection/dataset\\with_mask\\0_0_≈˙◊¢ 2020-02-24 220536.png\n",
      "Skipping corrupted/missing image: ../dataset_my/Face-Mask-Detection/dataset\\with_mask\\0_0_≈˙◊¢ 2020-02-24 222124.png\n",
      "Skipping corrupted/missing image: ../dataset_my/Face-Mask-Detection/dataset\\with_mask\\0_0_≈˙◊¢ 2020-02-24 224833.png\n",
      "Skipping corrupted/missing image: ../dataset_my/Face-Mask-Detection/dataset\\with_mask\\0_0_≈˙◊¢ 2020-02-24 225329.png\n",
      "Skipping corrupted/missing image: ../dataset_my/Face-Mask-Detection/dataset\\with_mask\\0_0_≈˙◊¢ 2020-02-24 225427.png\n",
      "Skipping corrupted/missing image: ../dataset_my/Face-Mask-Detection/dataset\\with_mask\\0_0_≈˙◊¢ 2020-02-25 150422.png\n",
      "Skipping corrupted/missing image: ../dataset_my/Face-Mask-Detection/dataset\\with_mask\\0_0_≈˙◊¢ 2020-02-25 150847.png\n",
      "Skipping corrupted/missing image: ../dataset_my/Face-Mask-Detection/dataset\\with_mask\\0_0_≈˙◊¢ 2020-02-25 150921.png\n",
      "Skipping corrupted/missing image: ../dataset_my/Face-Mask-Detection/dataset\\with_mask\\0_0_≈˙◊¢ 2020-02-25 185823.png\n",
      "Skipping corrupted/missing image: ../dataset_my/Face-Mask-Detection/dataset\\with_mask\\0_0_≈˙◊¢ 2020-02-25 190026.png\n",
      "Skipping corrupted/missing image: ../dataset_my/Face-Mask-Detection/dataset\\with_mask\\1_0_≈˙◊¢ 2020-02-24 202935.png\n",
      "Skipping corrupted/missing image: ../dataset_my/Face-Mask-Detection/dataset\\with_mask\\1_0_≈˙◊¢ 2020-02-24 215624.png\n",
      "Skipping corrupted/missing image: ../dataset_my/Face-Mask-Detection/dataset\\with_mask\\1_0_≈˙◊¢ 2020-02-24 224914.png\n",
      "Skipping corrupted/missing image: ../dataset_my/Face-Mask-Detection/dataset\\with_mask\\1_0_≈˙◊¢ 2020-02-25 151918.png\n",
      "Skipping non-image file: black10.webp\n",
      "Skipping non-image file: black19.webp\n",
      "Skipping non-image file: black3.jpg_1088Wx1632H\n",
      "Training set: (3255, 64, 64, 3), Labels: (3255,)\n",
      "Testing set: (814, 64, 64, 3), Labels: (814,)\n"
     ]
    }
   ],
   "source": [
    "import numpy as np\n",
    "import cv2\n",
    "import os\n",
    "from sklearn.model_selection import train_test_split\n",
    "\n",
    "# Define dataset path\n",
    "dataset_path = \"../dataset_my/Face-Mask-Detection/dataset\"  # Adjust if needed\n",
    "categories = [\"with_mask\", \"without_mask\"]  # Class labels\n",
    "\n",
    "# Initialize lists for images and labels\n",
    "X, y = [], []\n",
    "\n",
    "# Define valid image extensions\n",
    "valid_extensions = ('.jpg', '.jpeg', '.png')\n",
    "\n",
    "# Load images\n",
    "for label, category in enumerate(categories):\n",
    "    category_path = os.path.join(dataset_path, category)\n",
    "\n",
    "    if not os.path.exists(category_path):\n",
    "        print(f\"Error: Path does not exist - {category_path}\")\n",
    "        continue\n",
    "\n",
    "    for img_name in os.listdir(category_path):\n",
    "        if not img_name.lower().endswith(valid_extensions):\n",
    "            print(f\"Skipping non-image file: {img_name}\")\n",
    "            continue  # Skip non-image files\n",
    "\n",
    "        img_path = os.path.join(category_path, img_name)\n",
    "        img = cv2.imread(img_path)\n",
    "\n",
    "        if img is None:  # Check if image is loaded correctly\n",
    "            print(f\"Skipping corrupted/missing image: {img_path}\")\n",
    "            continue  # Skip this image\n",
    "\n",
    "        img = cv2.resize(img, (64, 64))  # Resize to match CNN input\n",
    "        X.append(img)\n",
    "        y.append(label)\n",
    "\n",
    "# Convert to NumPy arrays\n",
    "if len(X) == 0:\n",
    "    raise ValueError(\"No valid images found in the dataset. Check dataset path and file formats.\")\n",
    "\n",
    "X = np.array(X, dtype=np.float32) / 255.0  # Normalize pixel values\n",
    "y = np.array(y)\n",
    "\n",
    "# Split dataset into training and testing sets\n",
    "train_X, test_X, train_Y, test_Y = train_test_split(X, y, test_size=0.2, random_state=42)\n",
    "\n",
    "print(f\"Training set: {train_X.shape}, Labels: {train_Y.shape}\")\n",
    "print(f\"Testing set: {test_X.shape}, Labels: {test_Y.shape}\")\n"
   ]
  },
  {
   "cell_type": "code",
   "execution_count": 30,
   "metadata": {},
   "outputs": [
    {
     "data": {
      "text/html": [
       "<pre style=\"white-space:pre;overflow-x:auto;line-height:normal;font-family:Menlo,'DejaVu Sans Mono',consolas,'Courier New',monospace\"><span style=\"font-weight: bold\">Model: \"sequential_3\"</span>\n",
       "</pre>\n"
      ],
      "text/plain": [
       "\u001b[1mModel: \"sequential_3\"\u001b[0m\n"
      ]
     },
     "metadata": {},
     "output_type": "display_data"
    },
    {
     "data": {
      "text/html": [
       "<pre style=\"white-space:pre;overflow-x:auto;line-height:normal;font-family:Menlo,'DejaVu Sans Mono',consolas,'Courier New',monospace\">┏━━━━━━━━━━━━━━━━━━━━━━━━━━━━━━━━━┳━━━━━━━━━━━━━━━━━━━━━━━━┳━━━━━━━━━━━━━━━┓\n",
       "┃<span style=\"font-weight: bold\"> Layer (type)                    </span>┃<span style=\"font-weight: bold\"> Output Shape           </span>┃<span style=\"font-weight: bold\">       Param # </span>┃\n",
       "┡━━━━━━━━━━━━━━━━━━━━━━━━━━━━━━━━━╇━━━━━━━━━━━━━━━━━━━━━━━━╇━━━━━━━━━━━━━━━┩\n",
       "│ conv2d_7 (<span style=\"color: #0087ff; text-decoration-color: #0087ff\">Conv2D</span>)               │ (<span style=\"color: #00d7ff; text-decoration-color: #00d7ff\">None</span>, <span style=\"color: #00af00; text-decoration-color: #00af00\">62</span>, <span style=\"color: #00af00; text-decoration-color: #00af00\">62</span>, <span style=\"color: #00af00; text-decoration-color: #00af00\">32</span>)     │           <span style=\"color: #00af00; text-decoration-color: #00af00\">896</span> │\n",
       "├─────────────────────────────────┼────────────────────────┼───────────────┤\n",
       "│ max_pooling2d_7 (<span style=\"color: #0087ff; text-decoration-color: #0087ff\">MaxPooling2D</span>)  │ (<span style=\"color: #00d7ff; text-decoration-color: #00d7ff\">None</span>, <span style=\"color: #00af00; text-decoration-color: #00af00\">31</span>, <span style=\"color: #00af00; text-decoration-color: #00af00\">31</span>, <span style=\"color: #00af00; text-decoration-color: #00af00\">32</span>)     │             <span style=\"color: #00af00; text-decoration-color: #00af00\">0</span> │\n",
       "├─────────────────────────────────┼────────────────────────┼───────────────┤\n",
       "│ conv2d_8 (<span style=\"color: #0087ff; text-decoration-color: #0087ff\">Conv2D</span>)               │ (<span style=\"color: #00d7ff; text-decoration-color: #00d7ff\">None</span>, <span style=\"color: #00af00; text-decoration-color: #00af00\">29</span>, <span style=\"color: #00af00; text-decoration-color: #00af00\">29</span>, <span style=\"color: #00af00; text-decoration-color: #00af00\">64</span>)     │        <span style=\"color: #00af00; text-decoration-color: #00af00\">18,496</span> │\n",
       "├─────────────────────────────────┼────────────────────────┼───────────────┤\n",
       "│ max_pooling2d_8 (<span style=\"color: #0087ff; text-decoration-color: #0087ff\">MaxPooling2D</span>)  │ (<span style=\"color: #00d7ff; text-decoration-color: #00d7ff\">None</span>, <span style=\"color: #00af00; text-decoration-color: #00af00\">14</span>, <span style=\"color: #00af00; text-decoration-color: #00af00\">14</span>, <span style=\"color: #00af00; text-decoration-color: #00af00\">64</span>)     │             <span style=\"color: #00af00; text-decoration-color: #00af00\">0</span> │\n",
       "├─────────────────────────────────┼────────────────────────┼───────────────┤\n",
       "│ flatten_3 (<span style=\"color: #0087ff; text-decoration-color: #0087ff\">Flatten</span>)             │ (<span style=\"color: #00d7ff; text-decoration-color: #00d7ff\">None</span>, <span style=\"color: #00af00; text-decoration-color: #00af00\">12544</span>)          │             <span style=\"color: #00af00; text-decoration-color: #00af00\">0</span> │\n",
       "├─────────────────────────────────┼────────────────────────┼───────────────┤\n",
       "│ dense_6 (<span style=\"color: #0087ff; text-decoration-color: #0087ff\">Dense</span>)                 │ (<span style=\"color: #00d7ff; text-decoration-color: #00d7ff\">None</span>, <span style=\"color: #00af00; text-decoration-color: #00af00\">128</span>)            │     <span style=\"color: #00af00; text-decoration-color: #00af00\">1,605,760</span> │\n",
       "├─────────────────────────────────┼────────────────────────┼───────────────┤\n",
       "│ dense_7 (<span style=\"color: #0087ff; text-decoration-color: #0087ff\">Dense</span>)                 │ (<span style=\"color: #00d7ff; text-decoration-color: #00d7ff\">None</span>, <span style=\"color: #00af00; text-decoration-color: #00af00\">1</span>)              │           <span style=\"color: #00af00; text-decoration-color: #00af00\">129</span> │\n",
       "└─────────────────────────────────┴────────────────────────┴───────────────┘\n",
       "</pre>\n"
      ],
      "text/plain": [
       "┏━━━━━━━━━━━━━━━━━━━━━━━━━━━━━━━━━┳━━━━━━━━━━━━━━━━━━━━━━━━┳━━━━━━━━━━━━━━━┓\n",
       "┃\u001b[1m \u001b[0m\u001b[1mLayer (type)                   \u001b[0m\u001b[1m \u001b[0m┃\u001b[1m \u001b[0m\u001b[1mOutput Shape          \u001b[0m\u001b[1m \u001b[0m┃\u001b[1m \u001b[0m\u001b[1m      Param #\u001b[0m\u001b[1m \u001b[0m┃\n",
       "┡━━━━━━━━━━━━━━━━━━━━━━━━━━━━━━━━━╇━━━━━━━━━━━━━━━━━━━━━━━━╇━━━━━━━━━━━━━━━┩\n",
       "│ conv2d_7 (\u001b[38;5;33mConv2D\u001b[0m)               │ (\u001b[38;5;45mNone\u001b[0m, \u001b[38;5;34m62\u001b[0m, \u001b[38;5;34m62\u001b[0m, \u001b[38;5;34m32\u001b[0m)     │           \u001b[38;5;34m896\u001b[0m │\n",
       "├─────────────────────────────────┼────────────────────────┼───────────────┤\n",
       "│ max_pooling2d_7 (\u001b[38;5;33mMaxPooling2D\u001b[0m)  │ (\u001b[38;5;45mNone\u001b[0m, \u001b[38;5;34m31\u001b[0m, \u001b[38;5;34m31\u001b[0m, \u001b[38;5;34m32\u001b[0m)     │             \u001b[38;5;34m0\u001b[0m │\n",
       "├─────────────────────────────────┼────────────────────────┼───────────────┤\n",
       "│ conv2d_8 (\u001b[38;5;33mConv2D\u001b[0m)               │ (\u001b[38;5;45mNone\u001b[0m, \u001b[38;5;34m29\u001b[0m, \u001b[38;5;34m29\u001b[0m, \u001b[38;5;34m64\u001b[0m)     │        \u001b[38;5;34m18,496\u001b[0m │\n",
       "├─────────────────────────────────┼────────────────────────┼───────────────┤\n",
       "│ max_pooling2d_8 (\u001b[38;5;33mMaxPooling2D\u001b[0m)  │ (\u001b[38;5;45mNone\u001b[0m, \u001b[38;5;34m14\u001b[0m, \u001b[38;5;34m14\u001b[0m, \u001b[38;5;34m64\u001b[0m)     │             \u001b[38;5;34m0\u001b[0m │\n",
       "├─────────────────────────────────┼────────────────────────┼───────────────┤\n",
       "│ flatten_3 (\u001b[38;5;33mFlatten\u001b[0m)             │ (\u001b[38;5;45mNone\u001b[0m, \u001b[38;5;34m12544\u001b[0m)          │             \u001b[38;5;34m0\u001b[0m │\n",
       "├─────────────────────────────────┼────────────────────────┼───────────────┤\n",
       "│ dense_6 (\u001b[38;5;33mDense\u001b[0m)                 │ (\u001b[38;5;45mNone\u001b[0m, \u001b[38;5;34m128\u001b[0m)            │     \u001b[38;5;34m1,605,760\u001b[0m │\n",
       "├─────────────────────────────────┼────────────────────────┼───────────────┤\n",
       "│ dense_7 (\u001b[38;5;33mDense\u001b[0m)                 │ (\u001b[38;5;45mNone\u001b[0m, \u001b[38;5;34m1\u001b[0m)              │           \u001b[38;5;34m129\u001b[0m │\n",
       "└─────────────────────────────────┴────────────────────────┴───────────────┘\n"
      ]
     },
     "metadata": {},
     "output_type": "display_data"
    },
    {
     "data": {
      "text/html": [
       "<pre style=\"white-space:pre;overflow-x:auto;line-height:normal;font-family:Menlo,'DejaVu Sans Mono',consolas,'Courier New',monospace\"><span style=\"font-weight: bold\"> Total params: </span><span style=\"color: #00af00; text-decoration-color: #00af00\">1,625,281</span> (6.20 MB)\n",
       "</pre>\n"
      ],
      "text/plain": [
       "\u001b[1m Total params: \u001b[0m\u001b[38;5;34m1,625,281\u001b[0m (6.20 MB)\n"
      ]
     },
     "metadata": {},
     "output_type": "display_data"
    },
    {
     "data": {
      "text/html": [
       "<pre style=\"white-space:pre;overflow-x:auto;line-height:normal;font-family:Menlo,'DejaVu Sans Mono',consolas,'Courier New',monospace\"><span style=\"font-weight: bold\"> Trainable params: </span><span style=\"color: #00af00; text-decoration-color: #00af00\">1,625,281</span> (6.20 MB)\n",
       "</pre>\n"
      ],
      "text/plain": [
       "\u001b[1m Trainable params: \u001b[0m\u001b[38;5;34m1,625,281\u001b[0m (6.20 MB)\n"
      ]
     },
     "metadata": {},
     "output_type": "display_data"
    },
    {
     "data": {
      "text/html": [
       "<pre style=\"white-space:pre;overflow-x:auto;line-height:normal;font-family:Menlo,'DejaVu Sans Mono',consolas,'Courier New',monospace\"><span style=\"font-weight: bold\"> Non-trainable params: </span><span style=\"color: #00af00; text-decoration-color: #00af00\">0</span> (0.00 B)\n",
       "</pre>\n"
      ],
      "text/plain": [
       "\u001b[1m Non-trainable params: \u001b[0m\u001b[38;5;34m0\u001b[0m (0.00 B)\n"
      ]
     },
     "metadata": {},
     "output_type": "display_data"
    }
   ],
   "source": [
    "import tensorflow as tf\n",
    "from tensorflow import keras\n",
    "from tensorflow.keras import layers\n",
    "\n",
    "# Define CNN model\n",
    "model = keras.Sequential([\n",
    "    layers.Conv2D(32, (3,3), activation='relu', input_shape=(64,64,3)),\n",
    "    layers.MaxPooling2D(2,2),\n",
    "    \n",
    "    layers.Conv2D(64, (3,3), activation='relu'),\n",
    "    layers.MaxPooling2D(2,2),\n",
    "\n",
    "    layers.Flatten(),\n",
    "    layers.Dense(128, activation='relu'),\n",
    "    layers.Dense(1, activation='sigmoid')  # Binary classification\n",
    "])\n",
    "\n",
    "# Compile model\n",
    "model.compile(optimizer='adam', loss='binary_crossentropy', metrics=['accuracy'])\n",
    "\n",
    "# Summary of the model\n",
    "model.summary()\n"
   ]
  },
  {
   "cell_type": "code",
   "execution_count": 31,
   "metadata": {},
   "outputs": [
    {
     "name": "stdout",
     "output_type": "stream",
     "text": [
      "Epoch 1/50\n",
      "\u001b[1m102/102\u001b[0m \u001b[32m━━━━━━━━━━━━━━━━━━━━\u001b[0m\u001b[37m\u001b[0m \u001b[1m6s\u001b[0m 44ms/step - accuracy: 0.7656 - loss: 0.4554 - val_accuracy: 0.9140 - val_loss: 0.2325\n",
      "Epoch 2/50\n",
      "\u001b[1m102/102\u001b[0m \u001b[32m━━━━━━━━━━━━━━━━━━━━\u001b[0m\u001b[37m\u001b[0m \u001b[1m4s\u001b[0m 42ms/step - accuracy: 0.9396 - loss: 0.1625 - val_accuracy: 0.9263 - val_loss: 0.2090\n",
      "Epoch 3/50\n",
      "\u001b[1m102/102\u001b[0m \u001b[32m━━━━━━━━━━━━━━━━━━━━\u001b[0m\u001b[37m\u001b[0m \u001b[1m5s\u001b[0m 45ms/step - accuracy: 0.9519 - loss: 0.1427 - val_accuracy: 0.9447 - val_loss: 0.1689\n",
      "Epoch 4/50\n",
      "\u001b[1m102/102\u001b[0m \u001b[32m━━━━━━━━━━━━━━━━━━━━\u001b[0m\u001b[37m\u001b[0m \u001b[1m5s\u001b[0m 44ms/step - accuracy: 0.9682 - loss: 0.0977 - val_accuracy: 0.9435 - val_loss: 0.1868\n",
      "Epoch 5/50\n",
      "\u001b[1m102/102\u001b[0m \u001b[32m━━━━━━━━━━━━━━━━━━━━\u001b[0m\u001b[37m\u001b[0m \u001b[1m5s\u001b[0m 47ms/step - accuracy: 0.9790 - loss: 0.0673 - val_accuracy: 0.9300 - val_loss: 0.2302\n",
      "Epoch 6/50\n",
      "\u001b[1m102/102\u001b[0m \u001b[32m━━━━━━━━━━━━━━━━━━━━\u001b[0m\u001b[37m\u001b[0m \u001b[1m4s\u001b[0m 42ms/step - accuracy: 0.9817 - loss: 0.0692 - val_accuracy: 0.9545 - val_loss: 0.1461\n",
      "Epoch 7/50\n",
      "\u001b[1m102/102\u001b[0m \u001b[32m━━━━━━━━━━━━━━━━━━━━\u001b[0m\u001b[37m\u001b[0m \u001b[1m4s\u001b[0m 43ms/step - accuracy: 0.9838 - loss: 0.0431 - val_accuracy: 0.9496 - val_loss: 0.1787\n",
      "Epoch 8/50\n",
      "\u001b[1m102/102\u001b[0m \u001b[32m━━━━━━━━━━━━━━━━━━━━\u001b[0m\u001b[37m\u001b[0m \u001b[1m4s\u001b[0m 43ms/step - accuracy: 0.9845 - loss: 0.0508 - val_accuracy: 0.9423 - val_loss: 0.1955\n",
      "Epoch 9/50\n",
      "\u001b[1m102/102\u001b[0m \u001b[32m━━━━━━━━━━━━━━━━━━━━\u001b[0m\u001b[37m\u001b[0m \u001b[1m4s\u001b[0m 43ms/step - accuracy: 0.9827 - loss: 0.0461 - val_accuracy: 0.9472 - val_loss: 0.1739\n",
      "Epoch 10/50\n",
      "\u001b[1m102/102\u001b[0m \u001b[32m━━━━━━━━━━━━━━━━━━━━\u001b[0m\u001b[37m\u001b[0m \u001b[1m4s\u001b[0m 42ms/step - accuracy: 0.9935 - loss: 0.0167 - val_accuracy: 0.9545 - val_loss: 0.1841\n",
      "Epoch 11/50\n",
      "\u001b[1m102/102\u001b[0m \u001b[32m━━━━━━━━━━━━━━━━━━━━\u001b[0m\u001b[37m\u001b[0m \u001b[1m4s\u001b[0m 42ms/step - accuracy: 0.9963 - loss: 0.0133 - val_accuracy: 0.9607 - val_loss: 0.1738\n",
      "Epoch 12/50\n",
      "\u001b[1m102/102\u001b[0m \u001b[32m━━━━━━━━━━━━━━━━━━━━\u001b[0m\u001b[37m\u001b[0m \u001b[1m4s\u001b[0m 42ms/step - accuracy: 0.9907 - loss: 0.0238 - val_accuracy: 0.9545 - val_loss: 0.1863\n",
      "Epoch 13/50\n",
      "\u001b[1m102/102\u001b[0m \u001b[32m━━━━━━━━━━━━━━━━━━━━\u001b[0m\u001b[37m\u001b[0m \u001b[1m4s\u001b[0m 43ms/step - accuracy: 0.9954 - loss: 0.0134 - val_accuracy: 0.9545 - val_loss: 0.1929\n",
      "Epoch 14/50\n",
      "\u001b[1m102/102\u001b[0m \u001b[32m━━━━━━━━━━━━━━━━━━━━\u001b[0m\u001b[37m\u001b[0m \u001b[1m4s\u001b[0m 42ms/step - accuracy: 1.0000 - loss: 0.0039 - val_accuracy: 0.9558 - val_loss: 0.2064\n",
      "Epoch 15/50\n",
      "\u001b[1m102/102\u001b[0m \u001b[32m━━━━━━━━━━━━━━━━━━━━\u001b[0m\u001b[37m\u001b[0m \u001b[1m4s\u001b[0m 43ms/step - accuracy: 1.0000 - loss: 0.0022 - val_accuracy: 0.9509 - val_loss: 0.2446\n",
      "Epoch 16/50\n",
      "\u001b[1m102/102\u001b[0m \u001b[32m━━━━━━━━━━━━━━━━━━━━\u001b[0m\u001b[37m\u001b[0m \u001b[1m4s\u001b[0m 43ms/step - accuracy: 0.9994 - loss: 0.0041 - val_accuracy: 0.9644 - val_loss: 0.2357\n",
      "Epoch 17/50\n",
      "\u001b[1m102/102\u001b[0m \u001b[32m━━━━━━━━━━━━━━━━━━━━\u001b[0m\u001b[37m\u001b[0m \u001b[1m4s\u001b[0m 42ms/step - accuracy: 1.0000 - loss: 4.7246e-04 - val_accuracy: 0.9558 - val_loss: 0.2451\n",
      "Epoch 18/50\n",
      "\u001b[1m102/102\u001b[0m \u001b[32m━━━━━━━━━━━━━━━━━━━━\u001b[0m\u001b[37m\u001b[0m \u001b[1m4s\u001b[0m 43ms/step - accuracy: 1.0000 - loss: 4.6138e-04 - val_accuracy: 0.9607 - val_loss: 0.2517\n",
      "Epoch 19/50\n",
      "\u001b[1m102/102\u001b[0m \u001b[32m━━━━━━━━━━━━━━━━━━━━\u001b[0m\u001b[37m\u001b[0m \u001b[1m4s\u001b[0m 43ms/step - accuracy: 1.0000 - loss: 3.1956e-04 - val_accuracy: 0.9619 - val_loss: 0.2573\n",
      "Epoch 20/50\n",
      "\u001b[1m102/102\u001b[0m \u001b[32m━━━━━━━━━━━━━━━━━━━━\u001b[0m\u001b[37m\u001b[0m \u001b[1m4s\u001b[0m 43ms/step - accuracy: 1.0000 - loss: 2.0785e-04 - val_accuracy: 0.9607 - val_loss: 0.2611\n",
      "Epoch 21/50\n",
      "\u001b[1m102/102\u001b[0m \u001b[32m━━━━━━━━━━━━━━━━━━━━\u001b[0m\u001b[37m\u001b[0m \u001b[1m4s\u001b[0m 42ms/step - accuracy: 1.0000 - loss: 1.8414e-04 - val_accuracy: 0.9607 - val_loss: 0.2639\n",
      "Epoch 22/50\n",
      "\u001b[1m102/102\u001b[0m \u001b[32m━━━━━━━━━━━━━━━━━━━━\u001b[0m\u001b[37m\u001b[0m \u001b[1m4s\u001b[0m 44ms/step - accuracy: 1.0000 - loss: 1.4716e-04 - val_accuracy: 0.9607 - val_loss: 0.2683\n",
      "Epoch 23/50\n",
      "\u001b[1m102/102\u001b[0m \u001b[32m━━━━━━━━━━━━━━━━━━━━\u001b[0m\u001b[37m\u001b[0m \u001b[1m5s\u001b[0m 47ms/step - accuracy: 1.0000 - loss: 1.5521e-04 - val_accuracy: 0.9607 - val_loss: 0.2727\n",
      "Epoch 24/50\n",
      "\u001b[1m102/102\u001b[0m \u001b[32m━━━━━━━━━━━━━━━━━━━━\u001b[0m\u001b[37m\u001b[0m \u001b[1m5s\u001b[0m 44ms/step - accuracy: 1.0000 - loss: 1.3200e-04 - val_accuracy: 0.9595 - val_loss: 0.2737\n",
      "Epoch 25/50\n",
      "\u001b[1m102/102\u001b[0m \u001b[32m━━━━━━━━━━━━━━━━━━━━\u001b[0m\u001b[37m\u001b[0m \u001b[1m4s\u001b[0m 43ms/step - accuracy: 1.0000 - loss: 1.1966e-04 - val_accuracy: 0.9607 - val_loss: 0.2778\n",
      "Epoch 26/50\n",
      "\u001b[1m102/102\u001b[0m \u001b[32m━━━━━━━━━━━━━━━━━━━━\u001b[0m\u001b[37m\u001b[0m \u001b[1m4s\u001b[0m 43ms/step - accuracy: 1.0000 - loss: 9.9402e-05 - val_accuracy: 0.9595 - val_loss: 0.2791\n",
      "Epoch 27/50\n",
      "\u001b[1m102/102\u001b[0m \u001b[32m━━━━━━━━━━━━━━━━━━━━\u001b[0m\u001b[37m\u001b[0m \u001b[1m4s\u001b[0m 43ms/step - accuracy: 1.0000 - loss: 9.7317e-05 - val_accuracy: 0.9595 - val_loss: 0.2817\n",
      "Epoch 28/50\n",
      "\u001b[1m102/102\u001b[0m \u001b[32m━━━━━━━━━━━━━━━━━━━━\u001b[0m\u001b[37m\u001b[0m \u001b[1m4s\u001b[0m 42ms/step - accuracy: 1.0000 - loss: 7.6973e-05 - val_accuracy: 0.9595 - val_loss: 0.2844\n",
      "Epoch 29/50\n",
      "\u001b[1m102/102\u001b[0m \u001b[32m━━━━━━━━━━━━━━━━━━━━\u001b[0m\u001b[37m\u001b[0m \u001b[1m4s\u001b[0m 44ms/step - accuracy: 1.0000 - loss: 8.5407e-05 - val_accuracy: 0.9595 - val_loss: 0.2877\n",
      "Epoch 30/50\n",
      "\u001b[1m102/102\u001b[0m \u001b[32m━━━━━━━━━━━━━━━━━━━━\u001b[0m\u001b[37m\u001b[0m \u001b[1m4s\u001b[0m 43ms/step - accuracy: 1.0000 - loss: 6.4062e-05 - val_accuracy: 0.9595 - val_loss: 0.2893\n",
      "Epoch 31/50\n",
      "\u001b[1m102/102\u001b[0m \u001b[32m━━━━━━━━━━━━━━━━━━━━\u001b[0m\u001b[37m\u001b[0m \u001b[1m4s\u001b[0m 43ms/step - accuracy: 1.0000 - loss: 7.2545e-05 - val_accuracy: 0.9595 - val_loss: 0.2930\n",
      "Epoch 32/50\n",
      "\u001b[1m102/102\u001b[0m \u001b[32m━━━━━━━━━━━━━━━━━━━━\u001b[0m\u001b[37m\u001b[0m \u001b[1m4s\u001b[0m 43ms/step - accuracy: 1.0000 - loss: 5.3436e-05 - val_accuracy: 0.9595 - val_loss: 0.2950\n",
      "Epoch 33/50\n",
      "\u001b[1m102/102\u001b[0m \u001b[32m━━━━━━━━━━━━━━━━━━━━\u001b[0m\u001b[37m\u001b[0m \u001b[1m4s\u001b[0m 43ms/step - accuracy: 1.0000 - loss: 6.4754e-05 - val_accuracy: 0.9595 - val_loss: 0.2969\n",
      "Epoch 34/50\n",
      "\u001b[1m102/102\u001b[0m \u001b[32m━━━━━━━━━━━━━━━━━━━━\u001b[0m\u001b[37m\u001b[0m \u001b[1m4s\u001b[0m 42ms/step - accuracy: 1.0000 - loss: 5.0563e-05 - val_accuracy: 0.9595 - val_loss: 0.2986\n",
      "Epoch 35/50\n",
      "\u001b[1m102/102\u001b[0m \u001b[32m━━━━━━━━━━━━━━━━━━━━\u001b[0m\u001b[37m\u001b[0m \u001b[1m4s\u001b[0m 43ms/step - accuracy: 1.0000 - loss: 4.4206e-05 - val_accuracy: 0.9595 - val_loss: 0.2996\n",
      "Epoch 36/50\n",
      "\u001b[1m102/102\u001b[0m \u001b[32m━━━━━━━━━━━━━━━━━━━━\u001b[0m\u001b[37m\u001b[0m \u001b[1m4s\u001b[0m 43ms/step - accuracy: 1.0000 - loss: 4.1391e-05 - val_accuracy: 0.9607 - val_loss: 0.3028\n",
      "Epoch 37/50\n",
      "\u001b[1m102/102\u001b[0m \u001b[32m━━━━━━━━━━━━━━━━━━━━\u001b[0m\u001b[37m\u001b[0m \u001b[1m4s\u001b[0m 43ms/step - accuracy: 1.0000 - loss: 4.5458e-05 - val_accuracy: 0.9595 - val_loss: 0.3053\n",
      "Epoch 38/50\n",
      "\u001b[1m102/102\u001b[0m \u001b[32m━━━━━━━━━━━━━━━━━━━━\u001b[0m\u001b[37m\u001b[0m \u001b[1m4s\u001b[0m 43ms/step - accuracy: 1.0000 - loss: 4.0134e-05 - val_accuracy: 0.9607 - val_loss: 0.3059\n",
      "Epoch 39/50\n",
      "\u001b[1m102/102\u001b[0m \u001b[32m━━━━━━━━━━━━━━━━━━━━\u001b[0m\u001b[37m\u001b[0m \u001b[1m4s\u001b[0m 43ms/step - accuracy: 1.0000 - loss: 3.2524e-05 - val_accuracy: 0.9595 - val_loss: 0.3082\n",
      "Epoch 40/50\n",
      "\u001b[1m102/102\u001b[0m \u001b[32m━━━━━━━━━━━━━━━━━━━━\u001b[0m\u001b[37m\u001b[0m \u001b[1m4s\u001b[0m 44ms/step - accuracy: 1.0000 - loss: 3.4419e-05 - val_accuracy: 0.9619 - val_loss: 0.3104\n",
      "Epoch 41/50\n",
      "\u001b[1m102/102\u001b[0m \u001b[32m━━━━━━━━━━━━━━━━━━━━\u001b[0m\u001b[37m\u001b[0m \u001b[1m5s\u001b[0m 44ms/step - accuracy: 1.0000 - loss: 2.4329e-05 - val_accuracy: 0.9595 - val_loss: 0.3128\n",
      "Epoch 42/50\n",
      "\u001b[1m102/102\u001b[0m \u001b[32m━━━━━━━━━━━━━━━━━━━━\u001b[0m\u001b[37m\u001b[0m \u001b[1m4s\u001b[0m 43ms/step - accuracy: 1.0000 - loss: 2.8588e-05 - val_accuracy: 0.9607 - val_loss: 0.3136\n",
      "Epoch 43/50\n",
      "\u001b[1m102/102\u001b[0m \u001b[32m━━━━━━━━━━━━━━━━━━━━\u001b[0m\u001b[37m\u001b[0m \u001b[1m4s\u001b[0m 43ms/step - accuracy: 1.0000 - loss: 2.0872e-05 - val_accuracy: 0.9619 - val_loss: 0.3162\n",
      "Epoch 44/50\n",
      "\u001b[1m102/102\u001b[0m \u001b[32m━━━━━━━━━━━━━━━━━━━━\u001b[0m\u001b[37m\u001b[0m \u001b[1m4s\u001b[0m 43ms/step - accuracy: 1.0000 - loss: 2.1966e-05 - val_accuracy: 0.9619 - val_loss: 0.3188\n",
      "Epoch 45/50\n",
      "\u001b[1m102/102\u001b[0m \u001b[32m━━━━━━━━━━━━━━━━━━━━\u001b[0m\u001b[37m\u001b[0m \u001b[1m4s\u001b[0m 43ms/step - accuracy: 1.0000 - loss: 2.2754e-05 - val_accuracy: 0.9607 - val_loss: 0.3188\n",
      "Epoch 46/50\n",
      "\u001b[1m102/102\u001b[0m \u001b[32m━━━━━━━━━━━━━━━━━━━━\u001b[0m\u001b[37m\u001b[0m \u001b[1m4s\u001b[0m 43ms/step - accuracy: 1.0000 - loss: 2.0224e-05 - val_accuracy: 0.9607 - val_loss: 0.3201\n",
      "Epoch 47/50\n",
      "\u001b[1m102/102\u001b[0m \u001b[32m━━━━━━━━━━━━━━━━━━━━\u001b[0m\u001b[37m\u001b[0m \u001b[1m4s\u001b[0m 43ms/step - accuracy: 1.0000 - loss: 1.9950e-05 - val_accuracy: 0.9619 - val_loss: 0.3227\n",
      "Epoch 48/50\n",
      "\u001b[1m102/102\u001b[0m \u001b[32m━━━━━━━━━━━━━━━━━━━━\u001b[0m\u001b[37m\u001b[0m \u001b[1m4s\u001b[0m 43ms/step - accuracy: 1.0000 - loss: 2.0233e-05 - val_accuracy: 0.9607 - val_loss: 0.3250\n",
      "Epoch 49/50\n",
      "\u001b[1m102/102\u001b[0m \u001b[32m━━━━━━━━━━━━━━━━━━━━\u001b[0m\u001b[37m\u001b[0m \u001b[1m4s\u001b[0m 42ms/step - accuracy: 1.0000 - loss: 1.6574e-05 - val_accuracy: 0.9607 - val_loss: 0.3265\n",
      "Epoch 50/50\n",
      "\u001b[1m102/102\u001b[0m \u001b[32m━━━━━━━━━━━━━━━━━━━━\u001b[0m\u001b[37m\u001b[0m \u001b[1m4s\u001b[0m 43ms/step - accuracy: 1.0000 - loss: 1.8073e-05 - val_accuracy: 0.9631 - val_loss: 0.3275\n"
     ]
    }
   ],
   "source": [
    "history = model.fit(\n",
    "    train_X, train_Y, \n",
    "    validation_data=(test_X, test_Y), \n",
    "    epochs=50, \n",
    "    batch_size=32  # Reduce from 32 to 16 or even 8\n",
    ")\n"
   ]
  },
  {
   "cell_type": "code",
   "execution_count": 32,
   "metadata": {},
   "outputs": [
    {
     "name": "stdout",
     "output_type": "stream",
     "text": [
      "26/26 - 0s - 11ms/step - accuracy: 0.9631 - loss: 0.3275\n",
      "Test Accuracy: 0.9631\n",
      "Test Loss: 0.3275\n"
     ]
    }
   ],
   "source": [
    "test_loss, test_acc = model.evaluate(test_X, test_Y, verbose=2)\n",
    "print(f'Test Accuracy: {test_acc:.4f}')\n",
    "print(f'Test Loss: {test_loss:.4f}')\n"
   ]
  },
  {
   "cell_type": "markdown",
   "metadata": {},
   "source": [
    "### Visualizing Model Performance  \n",
    "This section plots the training and validation accuracy/loss over epochs to analyze the model's learning progress and detect potential overfitting or underfitting.  \n"
   ]
  },
  {
   "cell_type": "code",
   "execution_count": 33,
   "metadata": {},
   "outputs": [
    {
     "data": {
      "image/png": "[encoded data removed]",
      "text/plain": [
       "<Figure size 640x480 with 1 Axes>"
      ]
     },
     "metadata": {},
     "output_type": "display_data"
    },
    {
     "data": {
      "image/png": "[encoded data removed]",
      "text/plain": [
       "<Figure size 640x480 with 1 Axes>"
      ]
     },
     "metadata": {},
     "output_type": "display_data"
    }
   ],
   "source": [
    "import matplotlib.pyplot as plt\n",
    "\n",
    "# Plot accuracy\n",
    "plt.plot(history.history['accuracy'], label='Train Accuracy')\n",
    "plt.plot(history.history['val_accuracy'], label='Validation Accuracy')\n",
    "plt.xlabel('Epochs')\n",
    "plt.ylabel('Accuracy')\n",
    "plt.legend()\n",
    "plt.title('Model Accuracy Over Epochs')\n",
    "plt.show()\n",
    "\n",
    "# Plot loss\n",
    "plt.plot(history.history['loss'], label='Train Loss')\n",
    "plt.plot(history.history['val_loss'], label='Validation Loss')\n",
    "plt.xlabel('Epochs')\n",
    "plt.ylabel('Loss')\n",
    "plt.legend()\n",
    "plt.title('Model Loss Over Epochs')\n",
    "plt.show()\n"
   ]
  },
  {
   "cell_type": "code",
   "execution_count": 34,
   "metadata": {},
   "outputs": [
    {
     "name": "stdout",
     "output_type": "stream",
     "text": [
      "\u001b[1m26/26\u001b[0m \u001b[32m━━━━━━━━━━━━━━━━━━━━\u001b[0m\u001b[37m\u001b[0m \u001b[1m0s\u001b[0m 12ms/step\n",
      "              precision    recall  f1-score   support\n",
      "\n",
      "   With Mask       0.97      0.96      0.97       438\n",
      "Without Mask       0.96      0.96      0.96       376\n",
      "\n",
      "    accuracy                           0.96       814\n",
      "   macro avg       0.96      0.96      0.96       814\n",
      "weighted avg       0.96      0.96      0.96       814\n",
      "\n"
     ]
    }
   ],
   "source": [
    "from sklearn.metrics import classification_report\n",
    "\n",
    "# Predict labels on the test set\n",
    "y_pred = model.predict(test_X)\n",
    "y_pred = (y_pred > 0.5).astype(int)  # Convert probabilities to binary labels\n",
    "\n",
    "# Print classification report\n",
    "print(classification_report(test_Y, y_pred, target_names=[\"With Mask\", \"Without Mask\"]))\n"
   ]
  },
  {
   "cell_type": "code",
   "execution_count": 35,
   "metadata": {},
   "outputs": [
    {
     "name": "stdout",
     "output_type": "stream",
     "text": [
      "Final Test Accuracy: 0.9631\n"
     ]
    }
   ],
   "source": [
    "print(f'Final Test Accuracy: {test_acc:.4f}')"
   ]
  },
  {
   "cell_type": "code",
   "execution_count": null,
   "metadata": {},
   "outputs": [],
   "source": []
  }
 ],
 "metadata": {
  "kernelspec": {
   "display_name": "vr_env",
   "language": "python",
   "name": "python3"
  },
  "language_info": {
   "codemirror_mode": {
    "name": "ipython",
    "version": 3
   },
   "file_extension": ".py",
   "mimetype": "text/x-python",
   "name": "python",
   "nbconvert_exporter": "python",
   "pygments_lexer": "ipython3",
   "version": "3.11.11"
  }
 },
 "nbformat": 4,
 "nbformat_minor": 2
}
